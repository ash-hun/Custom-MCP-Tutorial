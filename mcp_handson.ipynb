{
 "cells": [
  {
   "cell_type": "markdown",
   "metadata": {},
   "source": [
    "# **Multi Server MCP Client**"
   ]
  },
  {
   "cell_type": "markdown",
   "metadata": {},
   "source": [
    "## 1. **Common transport**\n",
    "### 단일 Session"
   ]
  },
  {
   "cell_type": "code",
   "execution_count": 11,
   "metadata": {},
   "outputs": [
    {
     "name": "stdout",
     "output_type": "stream",
     "text": [
      "[StructuredTool(name='get_weather', description='Get the weather in a given city', args_schema={'properties': {'city': {'title': 'City', 'type': 'string'}}, 'required': ['city'], 'title': 'get_weatherArguments', 'type': 'object'}, response_format='content_and_artifact', coroutine=<function convert_mcp_tool_to_langchain_tool.<locals>.call_tool at 0x13896b9c0>),\n",
      " StructuredTool(name='get_weather_korea', description='Get the weather in a given city', args_schema={'properties': {'city': {'title': 'City', 'type': 'string'}}, 'required': ['city'], 'title': 'get_weather_koreaArguments', 'type': 'object'}, response_format='content_and_artifact', coroutine=<function convert_mcp_tool_to_langchain_tool.<locals>.call_tool at 0x138d349a0>)]\n"
     ]
    }
   ],
   "source": [
    "import pprint\n",
    "from langchain_mcp_adapters.client import MultiServerMCPClient\n",
    "\n",
    "async with MultiServerMCPClient(\n",
    "    {\n",
    "        \"weather\": {\n",
    "            \"url\": \"http://localhost:8005/sse\",\n",
    "            \"transport\": \"sse\",\n",
    "        }\n",
    "    }\n",
    ") as client:\n",
    "    pprint.pprint(client.get_tools())"
   ]
  },
  {
   "cell_type": "markdown",
   "metadata": {},
   "source": [
    "### 유지 Session"
   ]
  },
  {
   "cell_type": "code",
   "execution_count": 12,
   "metadata": {},
   "outputs": [
    {
     "name": "stdout",
     "output_type": "stream",
     "text": [
      "[StructuredTool(name='get_weather', description='Get the weather in a given city', args_schema={'properties': {'city': {'title': 'City', 'type': 'string'}}, 'required': ['city'], 'title': 'get_weatherArguments', 'type': 'object'}, response_format='content_and_artifact', coroutine=<function convert_mcp_tool_to_langchain_tool.<locals>.call_tool at 0x13896bf60>),\n",
      " StructuredTool(name='get_weather_korea', description='Get the weather in a given city', args_schema={'properties': {'city': {'title': 'City', 'type': 'string'}}, 'required': ['city'], 'title': 'get_weather_koreaArguments', 'type': 'object'}, response_format='content_and_artifact', coroutine=<function convert_mcp_tool_to_langchain_tool.<locals>.call_tool at 0x13896ab60>)]\n"
     ]
    }
   ],
   "source": [
    "import pprint\n",
    "from langchain_mcp_adapters.client import MultiServerMCPClient\n",
    "\n",
    "# 1. Create a client\n",
    "client =  MultiServerMCPClient(\n",
    "    {\n",
    "        \"weather\": {\n",
    "            \"url\": \"http://localhost:8005/sse\",\n",
    "            \"transport\": \"sse\",\n",
    "        }\n",
    "    }\n",
    ")\n",
    "\n",
    "# 2. Initialize a model\n",
    "await client.__aenter__()\n",
    "\n",
    "# 3. Load Tools\n",
    "tools = client.get_tools()\n",
    "pprint.pprint(tools)"
   ]
  },
  {
   "cell_type": "markdown",
   "metadata": {},
   "source": [
    "## 2. SSE 통신\n",
    "Model Context Protocol을 Server Sent Events를 통해 구현한 프로토콜. HTTP를 통해 원격서비스에 연결할 수 있다.\n",
    "- MCP 서버에서 먼저 running되고 있어야 한다."
   ]
  },
  {
   "cell_type": "code",
   "execution_count": 13,
   "metadata": {},
   "outputs": [
    {
     "name": "stdout",
     "output_type": "stream",
     "text": [
      "[StructuredTool(name='get_weather', description='Get the weather in a given city', args_schema={'properties': {'city': {'title': 'City', 'type': 'string'}}, 'required': ['city'], 'title': 'get_weatherArguments', 'type': 'object'}, response_format='content_and_artifact', coroutine=<function convert_mcp_tool_to_langchain_tool.<locals>.call_tool at 0x138d34540>),\n",
      " StructuredTool(name='get_weather_korea', description='Get the weather in a given city', args_schema={'properties': {'city': {'title': 'City', 'type': 'string'}}, 'required': ['city'], 'title': 'get_weather_koreaArguments', 'type': 'object'}, response_format='content_and_artifact', coroutine=<function convert_mcp_tool_to_langchain_tool.<locals>.call_tool at 0x138d349a0>)]\n"
     ]
    }
   ],
   "source": [
    "# 단일 세션\n",
    "import pprint\n",
    "from langchain_mcp_adapters.client import MultiServerMCPClient\n",
    "\n",
    "async with MultiServerMCPClient(\n",
    "    {\n",
    "        \"weather\": {\n",
    "            \"url\": \"http://localhost:8005/sse\",\n",
    "            \"transport\": \"sse\",\n",
    "        }\n",
    "    }\n",
    ") as client:\n",
    "    pprint.pprint(client.get_tools())"
   ]
  },
  {
   "cell_type": "code",
   "execution_count": null,
   "metadata": {},
   "outputs": [
    {
     "data": {
      "text/plain": [
       "{'messages': [HumanMessage(content='What is the weather in Seoul?', additional_kwargs={}, response_metadata={}, id='57b6449a-d667-49d4-9e7c-d4379894f59b'),\n",
       "  AIMessage(content='', additional_kwargs={'tool_calls': [{'id': 'call_8xcCVv8qXJemHVIRE6aYiz6M', 'function': {'arguments': '{\"city\":\"Seoul\"}', 'name': 'get_weather_korea'}, 'type': 'function'}], 'refusal': None}, response_metadata={'token_usage': {'completion_tokens': 18, 'prompt_tokens': 99, 'total_tokens': 117, 'completion_tokens_details': {'accepted_prediction_tokens': 0, 'audio_tokens': 0, 'reasoning_tokens': 0, 'rejected_prediction_tokens': 0}, 'prompt_tokens_details': {'audio_tokens': 0, 'cached_tokens': 0}}, 'model_name': 'gpt-4o-2024-08-06', 'system_fingerprint': 'fp_6dd05565ef', 'id': 'chatcmpl-BGikX80MdETxFwo35v66WzfBc2Plh', 'finish_reason': 'tool_calls', 'logprobs': None}, id='run-d58e4861-c7ec-41fd-9975-5a40c611a25d-0', tool_calls=[{'name': 'get_weather_korea', 'args': {'city': 'Seoul'}, 'id': 'call_8xcCVv8qXJemHVIRE6aYiz6M', 'type': 'tool_call'}], usage_metadata={'input_tokens': 99, 'output_tokens': 18, 'total_tokens': 117, 'input_token_details': {'audio': 0, 'cache_read': 0}, 'output_token_details': {'audio': 0, 'reasoning': 0}}),\n",
       "  ToolMessage(content='The weather in Seoul is 맑음', name='get_weather_korea', id='712f0ce1-c292-4b00-82e7-5fb6d07568c3', tool_call_id='call_8xcCVv8qXJemHVIRE6aYiz6M'),\n",
       "  AIMessage(content='서울의 날씨는 맑음입니다.', additional_kwargs={'refusal': None}, response_metadata={'token_usage': {'completion_tokens': 12, 'prompt_tokens': 134, 'total_tokens': 146, 'completion_tokens_details': {'accepted_prediction_tokens': 0, 'audio_tokens': 0, 'reasoning_tokens': 0, 'rejected_prediction_tokens': 0}, 'prompt_tokens_details': {'audio_tokens': 0, 'cached_tokens': 0}}, 'model_name': 'gpt-4o-2024-08-06', 'system_fingerprint': 'fp_6dd05565ef', 'id': 'chatcmpl-BGikY31McCvVeCAdjPyRuCvV3bIw6', 'finish_reason': 'stop', 'logprobs': None}, id='run-d080270a-2b02-41b2-bf28-a4f32ca91baa-0', usage_metadata={'input_tokens': 134, 'output_tokens': 12, 'total_tokens': 146, 'input_token_details': {'audio': 0, 'cache_read': 0}, 'output_token_details': {'audio': 0, 'reasoning': 0}})]}"
      ]
     },
     "execution_count": 20,
     "metadata": {},
     "output_type": "execute_result"
    },
    {
     "name": "stderr",
     "output_type": "stream",
     "text": [
      "Error in sse_reader: peer closed connection without sending complete message body (incomplete chunked read)\n"
     ]
    }
   ],
   "source": [
    "# 유지 세션\n",
    "import pprint\n",
    "from langchain_mcp_adapters.client import MultiServerMCPClient\n",
    "from langgraph.prebuilt import create_react_agent\n",
    "from langchain_openai import ChatOpenAI\n",
    "\n",
    "models = ChatOpenAI(model=\"gpt-4o\")\n",
    "\n",
    "# 1. Create a client\n",
    "client =  MultiServerMCPClient(\n",
    "    {\n",
    "        \"weather\": {\n",
    "            \"url\": \"http://localhost:8005/sse\",\n",
    "            \"transport\": \"sse\",\n",
    "        }\n",
    "    }\n",
    ")\n",
    "\n",
    "# 2. Initialize a model\n",
    "await client.__aenter__()\n",
    "\n",
    "# 3. Load Tools\n",
    "tools = client.get_tools()\n",
    "\n",
    "# 4. Define Prompt\n",
    "prompt = (\n",
    "    'You are a smart agent.'\n",
    "    'Use `weather` tool to get the weather in a given city.'\n",
    "    'Answer in Korean.'\n",
    ")\n",
    "# 5. agent\n",
    "agent = create_react_agent(models, tools, prompt=prompt)\n",
    "\n",
    "agent_response = await agent.ainvoke({\"messages\": \"What is the weather in Seoul?\"})\n",
    "agent_response"
   ]
  },
  {
   "cell_type": "markdown",
   "metadata": {},
   "source": [
    "## 3. Std I/O 통신\n",
    "로컬 프로세스에 적합, 통신을 위한 표준 입출력"
   ]
  },
  {
   "cell_type": "code",
   "execution_count": 23,
   "metadata": {},
   "outputs": [
    {
     "name": "stdout",
     "output_type": "stream",
     "text": [
      "[StructuredTool(name='get_weather', description='Get the weather in a given city', args_schema={'properties': {'city': {'title': 'City', 'type': 'string'}}, 'required': ['city'], 'title': 'get_weatherArguments', 'type': 'object'}, response_format='content_and_artifact', coroutine=<function convert_mcp_tool_to_langchain_tool.<locals>.call_tool at 0x13a9351c0>)]\n",
      "{'messages': [HumanMessage(content='What is the weather in Seoul?', additional_kwargs={}, response_metadata={}, id='b02a8455-1ea3-49f7-aa86-047259c8e572'),\n",
      "              AIMessage(content='', additional_kwargs={'tool_calls': [{'id': 'call_m3uJPeRL5BneNbwc4IbUUIzs', 'function': {'arguments': '{\"city\":\"Seoul\"}', 'name': 'get_weather'}, 'type': 'function'}], 'refusal': None}, response_metadata={'token_usage': {'completion_tokens': 16, 'prompt_tokens': 75, 'total_tokens': 91, 'completion_tokens_details': {'accepted_prediction_tokens': 0, 'audio_tokens': 0, 'reasoning_tokens': 0, 'rejected_prediction_tokens': 0}, 'prompt_tokens_details': {'audio_tokens': 0, 'cached_tokens': 0}}, 'model_name': 'gpt-4o-2024-08-06', 'system_fingerprint': 'fp_6dd05565ef', 'id': 'chatcmpl-BGimVPax69CdVwfZMxLDbQbt2oBl3', 'finish_reason': 'tool_calls', 'logprobs': None}, id='run-1bbcc9c0-2cbf-4885-9980-bfe100bd3f25-0', tool_calls=[{'name': 'get_weather', 'args': {'city': 'Seoul'}, 'id': 'call_m3uJPeRL5BneNbwc4IbUUIzs', 'type': 'tool_call'}], usage_metadata={'input_tokens': 75, 'output_tokens': 16, 'total_tokens': 91, 'input_token_details': {'audio': 0, 'cache_read': 0}, 'output_token_details': {'audio': 0, 'reasoning': 0}}),\n",
      "              ToolMessage(content='The weather in Seoul is 흐림', name='get_weather', id='4952f485-c761-459e-9a95-fa0405fc04f5', tool_call_id='call_m3uJPeRL5BneNbwc4IbUUIzs'),\n",
      "              AIMessage(content='서울의 날씨는 흐림입니다.', additional_kwargs={'refusal': None}, response_metadata={'token_usage': {'completion_tokens': 11, 'prompt_tokens': 105, 'total_tokens': 116, 'completion_tokens_details': {'accepted_prediction_tokens': 0, 'audio_tokens': 0, 'reasoning_tokens': 0, 'rejected_prediction_tokens': 0}, 'prompt_tokens_details': {'audio_tokens': 0, 'cached_tokens': 0}}, 'model_name': 'gpt-4o-2024-08-06', 'system_fingerprint': 'fp_6dd05565ef', 'id': 'chatcmpl-BGimWCcdSGAzQqYaO980VNbQ52Th8', 'finish_reason': 'stop', 'logprobs': None}, id='run-fe4c641a-6377-4bbe-811c-d909a6771873-0', usage_metadata={'input_tokens': 105, 'output_tokens': 11, 'total_tokens': 116, 'input_token_details': {'audio': 0, 'cache_read': 0}, 'output_token_details': {'audio': 0, 'reasoning': 0}})]}\n"
     ]
    }
   ],
   "source": [
    "from mcp import ClientSession, StdioServerParameters\n",
    "from mcp.client.stdio import stdio_client\n",
    "from langchain_mcp_adapters.tools import load_mcp_tools\n",
    "from langgraph.prebuilt import create_react_agent\n",
    "\n",
    "server_params = StdioServerParameters(\n",
    "    command=\"/Users/choejaehun/Desktop/mcp_tutorial/.venv/bin/python\",\n",
    "    args=[\"mcp_server_local.py\"],\n",
    ")\n",
    "\n",
    "async with stdio_client(server_params) as (read, write):\n",
    "    async with ClientSession(read, write) as session:\n",
    "        # Initialization\n",
    "        await session.initialize()\n",
    "        \n",
    "        # Get Tools\n",
    "        tools = await load_mcp_tools(session)\n",
    "        pprint.pprint(tools)\n",
    "        \n",
    "        # Create Agent\n",
    "        agent = create_react_agent(models, tools, prompt=prompt)\n",
    "        agent_response = await agent.ainvoke({\"messages\": \"What is the weather in Seoul?\"})\n",
    "        pprint.pprint(agent_response)"
   ]
  }
 ],
 "metadata": {
  "kernelspec": {
   "display_name": ".venv",
   "language": "python",
   "name": "python3"
  },
  "language_info": {
   "codemirror_mode": {
    "name": "ipython",
    "version": 3
   },
   "file_extension": ".py",
   "mimetype": "text/x-python",
   "name": "python",
   "nbconvert_exporter": "python",
   "pygments_lexer": "ipython3",
   "version": "3.12.0"
  }
 },
 "nbformat": 4,
 "nbformat_minor": 2
}
